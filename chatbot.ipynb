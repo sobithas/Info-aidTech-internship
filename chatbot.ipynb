{
 "cells": [
  {
   "cell_type": "code",
   "execution_count": null,
   "id": "cf80c4a4",
   "metadata": {},
   "outputs": [
    {
     "name": "stdout",
     "output_type": "stream",
     "text": [
      "Loaded 'chatbot_responses.json' successfully!\n",
      "You: hi\n",
      "Bot: Hey there!\n",
      "You: how are you\n",
      "Bot: I'm great! Thanks for asking.\n"
     ]
    }
   ],
   "source": [
    "import json\n",
    "import re\n",
    "\n",
    "\n",
    "def load_json(file):\n",
    "    with open(file) as bot_responses:\n",
    "        print(f\"Loaded '{file}' successfully!\")\n",
    "        return json.load(bot_responses)\n",
    "\n",
    "# Store JSON data\n",
    "response_data = load_json(\"chatbot_responses.json\")\n",
    "\n",
    "def get_response(input_string):\n",
    "    split_message = re.split(r'\\s+|[,;?!.-]\\s*', input_string.lower())\n",
    "    score_list = []\n",
    "\n",
    "    # Check all the responses\n",
    "    for response in response_data:\n",
    "        response_score = 0\n",
    "        required_score = 0\n",
    "        required_words = response[\"required_words\"]\n",
    "\n",
    "        # Check if there are any required words\n",
    "        if required_words:\n",
    "            for word in split_message:\n",
    "                if word in required_words:\n",
    "                    required_score += 1\n",
    "\n",
    "        # Amount of required words should match the required score\n",
    "        if required_score == len(required_words):\n",
    "            # Check each word the user has typed\n",
    "            for word in split_message:\n",
    "                # If the word is in the response, add to the score\n",
    "                if word in response[\"user_input\"]:\n",
    "                    response_score += 1\n",
    "\n",
    "        # Add score to list\n",
    "        score_list.append(response_score)\n",
    "\n",
    "    # Find the best response and return it if they're not all 0\n",
    "    best_response = max(score_list)\n",
    "    response_index = score_list.index(best_response)\n",
    "\n",
    "    # Check if input is empty\n",
    "    if input_string == \"\":\n",
    "        return \"Please type something so we can chat :(\"\n",
    "\n",
    "    # If there is no good response, return a random one.\n",
    "    if best_response != 0:\n",
    "        return response_data[response_index][\"bot_response\"]\n",
    "\n",
    "    return \"I'm sorry, I didn't understand that.\"\n",
    "\n",
    "while True:\n",
    "    user_input = input(\"You: \")\n",
    "    print(\"Bot:\", get_response(user_input))\n"
   ]
  },
  {
   "cell_type": "code",
   "execution_count": null,
   "id": "af22bd6c",
   "metadata": {},
   "outputs": [],
   "source": []
  }
 ],
 "metadata": {
  "kernelspec": {
   "display_name": "Python 3 (ipykernel)",
   "language": "python",
   "name": "python3"
  },
  "language_info": {
   "codemirror_mode": {
    "name": "ipython",
    "version": 3
   },
   "file_extension": ".py",
   "mimetype": "text/x-python",
   "name": "python",
   "nbconvert_exporter": "python",
   "pygments_lexer": "ipython3",
   "version": "3.11.4"
  }
 },
 "nbformat": 4,
 "nbformat_minor": 5
}
